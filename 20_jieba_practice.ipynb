{
 "cells": [
  {
   "cell_type": "code",
   "execution_count": 6,
   "metadata": {},
   "outputs": [],
   "source": [
    "import jieba"
   ]
  },
  {
   "cell_type": "code",
   "execution_count": 7,
   "metadata": {},
   "outputs": [],
   "source": [
    "s = '大家好,我叫小賀,今天來中央大學大數據班上課,非常開心。'"
   ]
  },
  {
   "cell_type": "code",
   "execution_count": 10,
   "metadata": {},
   "outputs": [],
   "source": [
    "jieba.load_userdict('./mytest.txt')"
   ]
  },
  {
   "cell_type": "code",
   "execution_count": 11,
   "metadata": {},
   "outputs": [
    {
     "name": "stdout",
     "output_type": "stream",
     "text": [
      "大家 | 好 | , | 我 | 叫 | 小 | 賀 | , | 今天 | 來 | 中央 | 中央大學 | 大數據班 | 班上 | 課 | , | 非常 | 開 | 心 | 。\n",
      "大家 | 好 | , | 我 | 叫 | 小賀 | , | 今天 | 來 | 中央大學 | 大數據班 | 上課 | , | 非常 | 開心 | 。\n",
      "大家 | 好 | , | 我 | 叫 | 小賀 | , | 今天 | 來 | 中央大學 | 大數據班 | 上課 | , | 非常 | 開心 | 。\n",
      "大家 | 好 | , | 我 | 叫 | 小賀 | , | 今天 | 來 | 中央 | 中央大學 | 大數據班 | 上課 | , | 非常 | 開心 | 。\n"
     ]
    }
   ],
   "source": [
    "s1_list = jieba.cut(s,cut_all=True) #全模式\n",
    "s2_list = jieba.cut(s,cut_all=False) #精確模式\n",
    "s3_list = jieba.cut(s) #預設模式:全模式\n",
    "s4_list = jieba.cut_for_search(s) #搜尋引擎模式\n",
    " \n",
    "print(' | '.join(s1_list))\n",
    "print(' | '.join(s2_list))\n",
    "print(' | '.join(s3_list))\n",
    "print(' | '.join(s4_list))"
   ]
  },
  {
   "cell_type": "code",
   "execution_count": null,
   "metadata": {},
   "outputs": [],
   "source": []
  }
 ],
 "metadata": {
  "kernelspec": {
   "display_name": "Python 3",
   "language": "python",
   "name": "python3"
  },
  "language_info": {
   "codemirror_mode": {
    "name": "ipython",
    "version": 3
   },
   "file_extension": ".py",
   "mimetype": "text/x-python",
   "name": "python",
   "nbconvert_exporter": "python",
   "pygments_lexer": "ipython3",
   "version": "3.7.4"
  }
 },
 "nbformat": 4,
 "nbformat_minor": 4
}
